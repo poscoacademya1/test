{
 "cells": [
  {
   "cell_type": "code",
   "execution_count": 7,
   "id": "4088493a-3a0e-4ce7-bbe6-31f4c10e1c35",
   "metadata": {},
   "outputs": [
    {
     "name": "stdout",
     "output_type": "stream",
     "text": [
      "A class\n",
      "A class\n"
     ]
    },
    {
     "data": {
      "text/plain": [
       "[__main__.D, __main__.C, __main__.A, __main__.B, object]"
      ]
     },
     "execution_count": 7,
     "metadata": {},
     "output_type": "execute_result"
    }
   ],
   "source": [
    "class A:\n",
    "    a = 1\n",
    "\n",
    "    def print_a(self):\n",
    "        print(\"A class\")\n",
    "\n",
    "class B:\n",
    "    b =1\n",
    "\n",
    "    def print_b(self):\n",
    "        print(\"B class\")\n",
    "\n",
    "class C(A):\n",
    "    c = 1\n",
    "    def print_c(self):\n",
    "        print(\"C class\")\n",
    "\n",
    "class D(C,B):  #A\n",
    "    d = 1\n",
    "    def print_d(self):\n",
    "        print(\"D Class\")\n",
    "c = C()\n",
    "c.a\n",
    "c.print_a()\n",
    "d = D()\n",
    "d.print_a()\n",
    "D.mro() #class information"
   ]
  },
  {
   "cell_type": "code",
   "execution_count": 2,
   "id": "cdaecdd3-0055-4067-860d-c8a894c5acc0",
   "metadata": {},
   "outputs": [
    {
     "name": "stdout",
     "output_type": "stream",
     "text": [
      "this is [a] class\n",
      "this is b class\n"
     ]
    }
   ],
   "source": [
    "class A:\n",
    "    def __init__(self):\n",
    "        print(\"this is [a] class\")\n",
    "class B(A):\n",
    "    def __init__(self):\n",
    "        super().__init__() # A init call \n",
    "        print(\"this is b class\")\n",
    "b = B()"
   ]
  },
  {
   "cell_type": "code",
   "execution_count": 11,
   "id": "d2c13a21-c5a4-4246-8090-97ba2dfba6a4",
   "metadata": {},
   "outputs": [],
   "source": [
    "class BankAccount:\n",
    "    def __init__(self, balance = 0, name = \"none\"):\n",
    "        self.balance = balance\n",
    "        self.name = name\n",
    "\n",
    "    def deposit(self, amount):\n",
    "       self.balance += amount\n",
    "    \n",
    "    def withdraw(self, amount):\n",
    "        if self.balance > amount:\n",
    "            self.balance -= amount\n",
    "            return True\n",
    "        else:\n",
    "            print(\"잔액부족\")\n",
    "            return False\n",
    "        return self.balance\n",
    "        \n",
    "    def get_info(self):\n",
    "        print(\"이름:\", self.name)\n",
    "        print(\"잔고:\", self.balance)\n",
    "        \n",
    "    def transfer(self):\n",
    "        if self.withdraw(amount):\n",
    "            other.deposit(amount)\n",
    "\n",
    "    def __add__(self,amount):\n",
    "        self.balance += amount\n",
    "            \n",
    "a = BankAccount(100, \"Gildong Hong\")        "
   ]
  },
  {
   "cell_type": "code",
   "execution_count": 6,
   "id": "17bcadad-baa2-435d-96d4-d8bb69ce5326",
   "metadata": {},
   "outputs": [
    {
     "name": "stdout",
     "output_type": "stream",
     "text": [
      "잔액을 유지해야합니다\n"
     ]
    }
   ],
   "source": [
    "class MinBalanceAccount(BankAccount):\n",
    "    def __init__(self, balance = 0, name = \"none\", min_bal=0):\n",
    "        super().__init__(balance, name)\n",
    "        self.min_bal = min_bal\n",
    "\n",
    "    def withdraw(self, amount):\n",
    "        if self.balance - self.min_bal >  self.min_bal:\n",
    "            super().withdraw(amount)\n",
    "        else:\n",
    "            print(\"잔액을 유지해야합니다\")\n",
    "acc = MinBalanceAccount(500, \"Kim\", 1000)\n",
    "acc.deposit(1000)\n",
    "acc.withdraw(600)"
   ]
  },
  {
   "cell_type": "code",
   "execution_count": 7,
   "id": "b6027906-88a3-425a-8210-80f3150636c8",
   "metadata": {},
   "outputs": [
    {
     "name": "stdout",
     "output_type": "stream",
     "text": [
      "5\n",
      "5\n"
     ]
    }
   ],
   "source": [
    "a = 3\n",
    "b = 2\n",
    "print(a+b)\n",
    "print(a.__add__(b))"
   ]
  },
  {
   "cell_type": "code",
   "execution_count": 12,
   "id": "048901ae-6a45-43ab-b832-485ad56590be",
   "metadata": {},
   "outputs": [
    {
     "name": "stdout",
     "output_type": "stream",
     "text": [
      "1000\n",
      "2000\n"
     ]
    }
   ],
   "source": [
    "acc = BankAccount(1000, \"Kim\")\n",
    "print(acc.balance)\n",
    "\n",
    "acc + 1000\n",
    "print(acc.balance)"
   ]
  },
  {
   "cell_type": "code",
   "execution_count": 2,
   "id": "a32d6bb2-b623-406a-89f5-9ca9738fdd99",
   "metadata": {},
   "outputs": [
    {
     "data": {
      "text/plain": [
       "False"
      ]
     },
     "execution_count": 2,
     "metadata": {},
     "output_type": "execute_result"
    }
   ],
   "source": [
    "import torch \n",
    "torch.cuda.is_available()"
   ]
  },
  {
   "cell_type": "code",
   "execution_count": 8,
   "id": "7877794a-7121-4f75-a9e7-454a1adc5de6",
   "metadata": {},
   "outputs": [
    {
     "name": "stdout",
     "output_type": "stream",
     "text": [
      "<__main__.NumBox object at 0x7f3826fe7b50>\n"
     ]
    },
    {
     "data": {
      "text/plain": [
       "140"
      ]
     },
     "execution_count": 8,
     "metadata": {},
     "output_type": "execute_result"
    }
   ],
   "source": [
    "class NumBox:\n",
    "    def __init__(self, num):\n",
    "        self.Num = num\n",
    "n = NumBox(40)\n",
    "print(n)\n",
    "n.Num + 100"
   ]
  },
  {
   "cell_type": "code",
   "execution_count": 1,
   "id": "1c2650f3-7672-47ac-8461-5791f2c61d9e",
   "metadata": {},
   "outputs": [
    {
     "name": "stdout",
     "output_type": "stream",
     "text": [
      "3\n"
     ]
    }
   ],
   "source": [
    "a = 1\n",
    "b = 2\n",
    "print(a+b)"
   ]
  }
 ],
 "metadata": {
  "kernelspec": {
   "display_name": "Python [conda env:pytorch]",
   "language": "python",
   "name": "conda-env-pytorch-py"
  },
  "language_info": {
   "codemirror_mode": {
    "name": "ipython",
    "version": 3
   },
   "file_extension": ".py",
   "mimetype": "text/x-python",
   "name": "python",
   "nbconvert_exporter": "python",
   "pygments_lexer": "ipython3",
   "version": "3.8.19"
  }
 },
 "nbformat": 4,
 "nbformat_minor": 5
}
